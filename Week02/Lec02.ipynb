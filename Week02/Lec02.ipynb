{
 "cells": [
  {
   "cell_type": "code",
   "execution_count": 3,
   "id": "5fad9a19",
   "metadata": {},
   "outputs": [],
   "source": [
    "temp = 'A'"
   ]
  },
  {
   "cell_type": "code",
   "execution_count": 4,
   "id": "a0490cba",
   "metadata": {},
   "outputs": [
    {
     "data": {
      "text/plain": [
       "'A'"
      ]
     },
     "execution_count": 4,
     "metadata": {},
     "output_type": "execute_result"
    }
   ],
   "source": [
    "temp"
   ]
  },
  {
   "cell_type": "code",
   "execution_count": 5,
   "id": "88ecac9a",
   "metadata": {},
   "outputs": [
    {
     "data": {
      "text/plain": [
       "65"
      ]
     },
     "execution_count": 5,
     "metadata": {},
     "output_type": "execute_result"
    }
   ],
   "source": [
    "ord(temp)"
   ]
  },
  {
   "cell_type": "code",
   "execution_count": 6,
   "id": "24338bb6",
   "metadata": {},
   "outputs": [
    {
     "data": {
      "text/plain": [
       "'a'"
      ]
     },
     "execution_count": 6,
     "metadata": {},
     "output_type": "execute_result"
    }
   ],
   "source": [
    "chr(97)"
   ]
  },
  {
   "cell_type": "code",
   "execution_count": 25,
   "id": "bcd8efbc",
   "metadata": {},
   "outputs": [],
   "source": [
    "def sample01(anything):\n",
    "    result = ''\n",
    "    for each in anything:\n",
    "        if each == ' ':\n",
    "            result = result + ' '\n",
    "        else:\n",
    "            result = result + chr(ord(each)-32)\n",
    "    return result"
   ]
  },
  {
   "cell_type": "code",
   "execution_count": 26,
   "id": "a3748636",
   "metadata": {},
   "outputs": [
    {
     "data": {
      "text/plain": [
       "'ABC'"
      ]
     },
     "execution_count": 26,
     "metadata": {},
     "output_type": "execute_result"
    }
   ],
   "source": [
    "sample01('abc')"
   ]
  },
  {
   "cell_type": "code",
   "execution_count": 27,
   "id": "0f70c2de",
   "metadata": {},
   "outputs": [
    {
     "data": {
      "text/plain": [
       "'THIS IS KOREA'"
      ]
     },
     "execution_count": 27,
     "metadata": {},
     "output_type": "execute_result"
    }
   ],
   "source": [
    "sample01('this is korea')"
   ]
  },
  {
   "cell_type": "code",
   "execution_count": 28,
   "id": "6eed4d7b",
   "metadata": {},
   "outputs": [
    {
     "data": {
      "text/plain": [
       "'4HIS IS +OREA'"
      ]
     },
     "execution_count": 28,
     "metadata": {},
     "output_type": "execute_result"
    }
   ],
   "source": [
    "sample01('This is Korea')"
   ]
  },
  {
   "cell_type": "code",
   "execution_count": null,
   "id": "4a11e7a6",
   "metadata": {},
   "outputs": [],
   "source": []
  },
  {
   "cell_type": "code",
   "execution_count": null,
   "id": "9bd2e424",
   "metadata": {},
   "outputs": [],
   "source": []
  },
  {
   "cell_type": "code",
   "execution_count": 2,
   "id": "ccc34c8f",
   "metadata": {},
   "outputs": [
    {
     "data": {
      "text/plain": [
       "'This is South Korea'"
      ]
     },
     "execution_count": 2,
     "metadata": {},
     "output_type": "execute_result"
    }
   ],
   "source": [
    "anything"
   ]
  },
  {
   "cell_type": "code",
   "execution_count": null,
   "id": "ab1569d3",
   "metadata": {},
   "outputs": [],
   "source": []
  }
 ],
 "metadata": {
  "kernelspec": {
   "display_name": "Python 3 (ipykernel)",
   "language": "python",
   "name": "python3"
  },
  "language_info": {
   "codemirror_mode": {
    "name": "ipython",
    "version": 3
   },
   "file_extension": ".py",
   "mimetype": "text/x-python",
   "name": "python",
   "nbconvert_exporter": "python",
   "pygments_lexer": "ipython3",
   "version": "3.11.3"
  }
 },
 "nbformat": 4,
 "nbformat_minor": 5
}
