{
 "cells": [
  {
   "cell_type": "code",
   "execution_count": 38,
   "id": "1e5baa9b",
   "metadata": {},
   "outputs": [],
   "source": [
    "# Question 1"
   ]
  },
  {
   "cell_type": "code",
   "execution_count": 29,
   "id": "2a516cb2",
   "metadata": {},
   "outputs": [
    {
     "name": "stdout",
     "output_type": "stream",
     "text": [
      "{'A': 20, 'B': 21, 'C': 22, 'D': 23, 'E': 24, 'F': 25, 'G': 26, 'H': 27, 'I': 28, 'J': 29, 'K': 30, 'L': 31, 'M': 32, 'N': 33, 'O': 34, 'P': 35, 'Q': 36, 'R': 37, 'S': 38, 'T': 39, 'U': 40, 'V': 41, 'W': 42, 'X': 43, 'Y': 44, 'Z': 45, 'a': 46, 'b': 47, 'c': 48, 'd': 49, 'e': 50, 'f': 51, 'g': 52, 'h': 53, 'i': 54, 'j': 55, 'k': 56, 'l': 57, 'm': 58, 'n': 59, 'o': 60, 'p': 61, 'q': 62, 'r': 63, 's': 64, 't': 65, 'u': 66, 'v': 67, 'w': 68, 'x': 69, 'y': 70, 'z': 71}\n"
     ]
    }
   ],
   "source": [
    "print(newASCII())"
   ]
  },
  {
   "cell_type": "code",
   "execution_count": 31,
   "id": "7388c15d",
   "metadata": {},
   "outputs": [],
   "source": [
    "target = 'Frodo woke and found himself lying in bed. At first he thought that he had slept late, after a long unpleasant dream that still hovered on the edge of memory. Or perhaps he had been ill? But the ceiling looked strange; it was flat, and it had dark beams richly carved. He lay a little while longer looking at patches of sunlight on the wall, and listening to the sound of a waterfall.'"
   ]
  },
  {
   "cell_type": "code",
   "execution_count": 32,
   "id": "fe936e0e",
   "metadata": {},
   "outputs": [
    {
     "data": {
      "text/plain": [
       "'Frodo woke and found himself lying in bed. At first he thought that he had slept late, after a long unpleasant dream that still hovered on the edge of memory. Or perhaps he had been ill? But the ceiling looked strange; it was flat, and it had dark beams richly carved. He lay a little while longer looking at patches of sunlight on the wall, and listening to the sound of a waterfall.'"
      ]
     },
     "execution_count": 32,
     "metadata": {},
     "output_type": "execute_result"
    }
   ],
   "source": [
    "target"
   ]
  },
  {
   "cell_type": "code",
   "execution_count": 14,
   "id": "470c0bfc",
   "metadata": {},
   "outputs": [],
   "source": [
    "sample01 = '2563604960 68605650 465949 5160665949 53545864505751 5770545952 5459 475049. 2065 5154636465 5350 65536066525365 65534665 5350 534649 6457506165 57466550, 4651655063 46 57605952 66596157504664465965 4963504658 65534665 6465545757 53606750635049 6059 655350 50495250 6051 585058606370. 3463 61506353466164 5350 534649 47505059 545757? 216665 655350 48505457545952 576060565049 64656346595250; 5465 684664 51574665, 465949 5465 534649 49466356 4750465864 635448535770 484663675049. 2750 574670 46 575465655750 6853545750 576059525063 57606056545952 4665 61466548535064 6051 6466595754525365 6059 655350 68465757, 465949 575464655059545952 6560 655350 6460665949 6051 46 684665506351465757. '"
   ]
  },
  {
   "cell_type": "code",
   "execution_count": 15,
   "id": "8ddd1365",
   "metadata": {},
   "outputs": [
    {
     "data": {
      "text/plain": [
       "'2563604960 68605650 465949 5160665949 53545864505751 5770545952 5459 475049. 2065 5154636465 5350 65536066525365 65534665 5350 534649 6457506165 57466550, 4651655063 46 57605952 66596157504664465965 4963504658 65534665 6465545757 53606750635049 6059 655350 50495250 6051 585058606370. 3463 61506353466164 5350 534649 47505059 545757? 216665 655350 48505457545952 576060565049 64656346595250; 5465 684664 51574665, 465949 5465 534649 49466356 4750465864 635448535770 484663675049. 2750 574670 46 575465655750 6853545750 576059525063 57606056545952 4665 61466548535064 6051 6466595754525365 6059 655350 68465757, 465949 575464655059545952 6560 655350 6460665949 6051 46 684665506351465757. '"
      ]
     },
     "execution_count": 15,
     "metadata": {},
     "output_type": "execute_result"
    }
   ],
   "source": [
    "sample01"
   ]
  },
  {
   "cell_type": "code",
   "execution_count": 1,
   "id": "89996421",
   "metadata": {},
   "outputs": [],
   "source": [
    "word = '2563604960'"
   ]
  },
  {
   "cell_type": "code",
   "execution_count": 18,
   "id": "3e229625",
   "metadata": {},
   "outputs": [],
   "source": [
    "def helper01(word):\n",
    "    index = 0\n",
    "    store = []\n",
    "    tmp = ''\n",
    "    for each in word:\n",
    "        tmp = tmp + each\n",
    "        index = index + 1\n",
    "        if index % 2 == 0:\n",
    "            store.append(int(tmp))\n",
    "            tmp = ''\n",
    "            \n",
    "    return store"
   ]
  },
  {
   "cell_type": "code",
   "execution_count": 4,
   "id": "71cec38f",
   "metadata": {},
   "outputs": [
    {
     "data": {
      "text/plain": [
       "[25, 63, 60, 49, 60]"
      ]
     },
     "execution_count": 4,
     "metadata": {},
     "output_type": "execute_result"
    }
   ],
   "source": [
    "store"
   ]
  },
  {
   "cell_type": "code",
   "execution_count": 5,
   "id": "6f503c4f",
   "metadata": {},
   "outputs": [],
   "source": [
    "newAscii = {'A': 20, 'B': 21, 'C': 22, 'D': 23, 'E': 24, 'F': 25, 'G': 26, 'H': 27, 'I': 28, 'J': 29, 'K': 30, 'L': 31, 'M': 32, 'N': 33, 'O': 34, 'P': 35, 'Q': 36, 'R': 37, 'S': 38, 'T': 39, 'U': 40, 'V': 41, 'W': 42, 'X': 43, 'Y': 44, 'Z': 45, 'a': 46, 'b': 47, 'c': 48, 'd': 49, 'e': 50, 'f': 51, 'g': 52, 'h': 53, 'i': 54, 'j': 55, 'k': 56, 'l': 57, 'm': 58, 'n': 59, 'o': 60, 'p': 61, 'q': 62, 'r': 63, 's': 64, 't': 65, 'u': 66, 'v': 67, 'w': 68, 'x': 69, 'y': 70, 'z': 71}"
   ]
  },
  {
   "cell_type": "code",
   "execution_count": 19,
   "id": "11d9d255",
   "metadata": {},
   "outputs": [],
   "source": [
    "def helper02(li):\n",
    "    result = ''\n",
    "    for other in li:\n",
    "        for each in newAscii:\n",
    "            if other == newAscii[each]:\n",
    "                result = result + each\n",
    "    return result"
   ]
  },
  {
   "cell_type": "code",
   "execution_count": 13,
   "id": "7e749d1c",
   "metadata": {},
   "outputs": [
    {
     "data": {
      "text/plain": [
       "'Frodo'"
      ]
     },
     "execution_count": 13,
     "metadata": {},
     "output_type": "execute_result"
    }
   ],
   "source": [
    "result"
   ]
  },
  {
   "cell_type": "code",
   "execution_count": 16,
   "id": "499de547",
   "metadata": {},
   "outputs": [],
   "source": [
    "target01 = sample01.split(' ')"
   ]
  },
  {
   "cell_type": "code",
   "execution_count": null,
   "id": "98bc346c",
   "metadata": {},
   "outputs": [],
   "source": []
  },
  {
   "cell_type": "code",
   "execution_count": null,
   "id": "e7dcea93",
   "metadata": {},
   "outputs": [],
   "source": [
    "# Question 2"
   ]
  },
  {
   "cell_type": "code",
   "execution_count": 37,
   "id": "48ab2fe6",
   "metadata": {},
   "outputs": [],
   "source": [
    "'''\n",
    "01011010 = 90 = 5A\n",
    "binary <-> hex\n",
    "'''"
   ]
  },
  {
   "cell_type": "code",
   "execution_count": null,
   "id": "415b82d1",
   "metadata": {},
   "outputs": [],
   "source": []
  }
 ],
 "metadata": {
  "kernelspec": {
   "display_name": "Python 3 (ipykernel)",
   "language": "python",
   "name": "python3"
  },
  "language_info": {
   "codemirror_mode": {
    "name": "ipython",
    "version": 3
   },
   "file_extension": ".py",
   "mimetype": "text/x-python",
   "name": "python",
   "nbconvert_exporter": "python",
   "pygments_lexer": "ipython3",
   "version": "3.11.3"
  }
 },
 "nbformat": 4,
 "nbformat_minor": 5
}
