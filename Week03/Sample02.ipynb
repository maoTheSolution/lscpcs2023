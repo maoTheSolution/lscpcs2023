{
 "cells": [
  {
   "cell_type": "code",
   "execution_count": 5,
   "id": "091afe6e",
   "metadata": {},
   "outputs": [],
   "source": [
    "result = ''\n",
    "for each in sample:\n",
    "    if each == ' ':\n",
    "        result = result + ' '\n",
    "    elif each == '.':\n",
    "        result = result + '.'\n",
    "    elif each == ',':\n",
    "        result = result + ','\n",
    "    else:\n",
    "        result = result + chr(ord(each)+7)"
   ]
  },
  {
   "cell_type": "code",
   "execution_count": 6,
   "id": "726e0877",
   "metadata": {},
   "outputs": [
    {
     "data": {
      "text/plain": [
       "'Pu {ol ilnpuupun Nvk jylh{lk {ol olh}luz huk {ol lhy{o. 9 Uv~ {ol lhy{o ~hz mvytslzz huk ltw{\\x80, khyrulzz ~hz v}ly {ol z|ymhjl vm {ol kllw, huk {ol Zwpyp{ vm Nvk ~hz ov}lypun v}ly {ol ~h{lyz. Huk Nvk zhpk, ‣Sl{ {olyl il spno{,․ huk {olyl ~hz spno{. ; Nvk zh~ {oh{ {ol spno{ ~hz nvvk, huk ol zlwhyh{lk {ol spno{ myvt {ol khyrulzz. < Nvk jhsslk {ol spno{ ‣kh\\x80,․ huk {ol khyrulzz ol jhsslk ‣upno{.․ Huk {olyl ~hz l}lupun, huk {olyl ~hz tvyupun‛{ol mpyz{ kh\\x80.Huk Nvk zhpk, ‣Sl{ {olyl il h }h|s{ il{~llu {ol ~h{lyz {v zlwhyh{l ~h{ly myvt ~h{ly.․ > Zv Nvk thkl {ol }h|s{ huk zlwhyh{lk {ol ~h{ly |ukly {ol }h|s{ myvt {ol ~h{ly hiv}l p{. Huk p{ ~hz zv. ? Nvk jhsslk {ol }h|s{ ‣zr\\x80.․ Huk {olyl ~hz l}lupun, huk {olyl ~hz tvyupun‛{ol zljvuk kh\\x80.'"
      ]
     },
     "execution_count": 6,
     "metadata": {},
     "output_type": "execute_result"
    }
   ],
   "source": [
    "result"
   ]
  },
  {
   "cell_type": "code",
   "execution_count": null,
   "id": "c2dd3d00",
   "metadata": {},
   "outputs": [],
   "source": []
  }
 ],
 "metadata": {
  "kernelspec": {
   "display_name": "Python 3 (ipykernel)",
   "language": "python",
   "name": "python3"
  },
  "language_info": {
   "codemirror_mode": {
    "name": "ipython",
    "version": 3
   },
   "file_extension": ".py",
   "mimetype": "text/x-python",
   "name": "python",
   "nbconvert_exporter": "python",
   "pygments_lexer": "ipython3",
   "version": "3.11.3"
  }
 },
 "nbformat": 4,
 "nbformat_minor": 5
}
