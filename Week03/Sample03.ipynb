{
 "cells": [
  {
   "cell_type": "code",
   "execution_count": 13,
   "id": "a0f70c2e",
   "metadata": {},
   "outputs": [],
   "source": [
    "def f1(arg):\n",
    "    index = -1\n",
    "    result = ''\n",
    "    for each in arg:\n",
    "        index = index + 1\n",
    "        \n",
    "        if index == 0:\n",
    "            if each >= 'a' and each <= 'z':\n",
    "                result = result + each.upper()\n",
    "            else :\n",
    "                result = result + each\n",
    "        else:\n",
    "            if each >= 'A' and each <= 'Z':\n",
    "                result = result + each.\n",
    "            else\n",
    "        \n",
    "    return arg"
   ]
  },
  {
   "cell_type": "code",
   "execution_count": 14,
   "id": "b6e663ca",
   "metadata": {},
   "outputs": [
    {
     "data": {
      "text/plain": [
       "'liBeRtaS'"
      ]
     },
     "execution_count": 14,
     "metadata": {},
     "output_type": "execute_result"
    }
   ],
   "source": [
    "f1('liBeRtaS')"
   ]
  },
  {
   "cell_type": "code",
   "execution_count": 23,
   "id": "27d610bd",
   "metadata": {},
   "outputs": [],
   "source": [
    "temp = 'g'"
   ]
  },
  {
   "cell_type": "code",
   "execution_count": 24,
   "id": "1e91981f",
   "metadata": {},
   "outputs": [
    {
     "name": "stdout",
     "output_type": "stream",
     "text": [
      "yay\n"
     ]
    }
   ],
   "source": [
    "if temp >= 'a' and temp <= 'z':\n",
    "    print('yay')"
   ]
  },
  {
   "cell_type": "code",
   "execution_count": 27,
   "id": "90979b99",
   "metadata": {},
   "outputs": [],
   "source": [
    "temp = 'b'"
   ]
  },
  {
   "cell_type": "code",
   "execution_count": 28,
   "id": "f869e30f",
   "metadata": {},
   "outputs": [],
   "source": [
    "if temp >= 'A' and temp <= 'Z':\n",
    "    print('yay')"
   ]
  },
  {
   "cell_type": "code",
   "execution_count": 31,
   "id": "91482bd5",
   "metadata": {},
   "outputs": [
    {
     "name": "stdout",
     "output_type": "stream",
     "text": [
      "lower\n",
      "lower\n",
      "upper\n",
      "lower\n",
      "upper\n",
      "lower\n",
      "lower\n",
      "upper\n"
     ]
    }
   ],
   "source": [
    "for each in 'liBeRtaS':\n",
    "    if each >= 'a' and each <= 'z':\n",
    "        print('lower')\n",
    "    elif each >= 'A' and each <= 'Z':\n",
    "        print('upper')\n",
    "    else:\n",
    "        print('else')"
   ]
  },
  {
   "cell_type": "code",
   "execution_count": 32,
   "id": "8fd20a90",
   "metadata": {},
   "outputs": [],
   "source": [
    "temp = 'liBeRtaS'\n"
   ]
  },
  {
   "cell_type": "code",
   "execution_count": 35,
   "id": "d8be6b91",
   "metadata": {},
   "outputs": [
    {
     "data": {
      "text/plain": [
       "'i'"
      ]
     },
     "execution_count": 35,
     "metadata": {},
     "output_type": "execute_result"
    }
   ],
   "source": [
    "temp[1]"
   ]
  },
  {
   "cell_type": "code",
   "execution_count": null,
   "id": "bf143b9f",
   "metadata": {},
   "outputs": [],
   "source": []
  }
 ],
 "metadata": {
  "kernelspec": {
   "display_name": "Python 3 (ipykernel)",
   "language": "python",
   "name": "python3"
  },
  "language_info": {
   "codemirror_mode": {
    "name": "ipython",
    "version": 3
   },
   "file_extension": ".py",
   "mimetype": "text/x-python",
   "name": "python",
   "nbconvert_exporter": "python",
   "pygments_lexer": "ipython3",
   "version": "3.11.3"
  }
 },
 "nbformat": 4,
 "nbformat_minor": 5
}
