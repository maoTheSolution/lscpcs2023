{
 "cells": [
  {
   "cell_type": "code",
   "execution_count": 36,
   "id": "0f574567",
   "metadata": {},
   "outputs": [],
   "source": [
    "def f1(arg):\n",
    "    index = -1\n",
    "    result = ''\n",
    "    for each in arg:\n",
    "        index = index + 1\n",
    "        \n",
    "        if index == 0:\n",
    "            if each >= 'a' and each <= 'z':\n",
    "                result = result + each.upper()\n",
    "            else :\n",
    "                result = result + each\n",
    "        else:\n",
    "            if each >= 'A' and each <= 'Z':\n",
    "                result = result + each.lower()\n",
    "            else :\n",
    "                result = result + each\n",
    "        \n",
    "    return result"
   ]
  },
  {
   "cell_type": "code",
   "execution_count": 37,
   "id": "f991b6bb",
   "metadata": {},
   "outputs": [
    {
     "data": {
      "text/plain": [
       "'Libertas'"
      ]
     },
     "execution_count": 37,
     "metadata": {},
     "output_type": "execute_result"
    }
   ],
   "source": [
    "f1('liBeRtaS')"
   ]
  },
  {
   "cell_type": "code",
   "execution_count": 23,
   "id": "ff49f505",
   "metadata": {},
   "outputs": [],
   "source": [
    "temp = 'g'"
   ]
  },
  {
   "cell_type": "code",
   "execution_count": 24,
   "id": "e7c9e2d6",
   "metadata": {},
   "outputs": [
    {
     "name": "stdout",
     "output_type": "stream",
     "text": [
      "yay\n"
     ]
    }
   ],
   "source": [
    "if temp >= 'a' and temp <= 'z':\n",
    "    print('yay')"
   ]
  },
  {
   "cell_type": "code",
   "execution_count": 27,
   "id": "32cade2d",
   "metadata": {},
   "outputs": [],
   "source": [
    "temp = 'b'"
   ]
  },
  {
   "cell_type": "code",
   "execution_count": 28,
   "id": "baa9f97e",
   "metadata": {},
   "outputs": [],
   "source": [
    "if temp >= 'A' and temp <= 'Z':\n",
    "    print('yay')"
   ]
  },
  {
   "cell_type": "code",
   "execution_count": 31,
   "id": "6cfec2de",
   "metadata": {},
   "outputs": [
    {
     "name": "stdout",
     "output_type": "stream",
     "text": [
      "lower\n",
      "lower\n",
      "upper\n",
      "lower\n",
      "upper\n",
      "lower\n",
      "lower\n",
      "upper\n"
     ]
    }
   ],
   "source": [
    "for each in 'liBeRtaS':\n",
    "    if each >= 'a' and each <= 'z':\n",
    "        print('lower')\n",
    "    elif each >= 'A' and each <= 'Z':\n",
    "        print('upper')\n",
    "    else:\n",
    "        print('else')"
   ]
  },
  {
   "cell_type": "code",
   "execution_count": 32,
   "id": "356e7adc",
   "metadata": {},
   "outputs": [],
   "source": [
    "temp = 'liBeRtaS'\n"
   ]
  },
  {
   "cell_type": "code",
   "execution_count": 35,
   "id": "f84e2cb5",
   "metadata": {},
   "outputs": [
    {
     "data": {
      "text/plain": [
       "'i'"
      ]
     },
     "execution_count": 35,
     "metadata": {},
     "output_type": "execute_result"
    }
   ],
   "source": [
    "temp[1]"
   ]
  },
  {
   "cell_type": "code",
   "execution_count": 38,
   "id": "03ad5fef",
   "metadata": {},
   "outputs": [],
   "source": [
    "temp = 'I Had A GoOD dAy'"
   ]
  },
  {
   "cell_type": "code",
   "execution_count": 53,
   "id": "599bd87b",
   "metadata": {},
   "outputs": [],
   "source": [
    "def f2(arg):\n",
    "    index = 0\n",
    "    result = ''\n",
    "    for each in arg.split():\n",
    "        result = result + f1(each)\n",
    "        result = result + ' '\n",
    "        index = index + 1\n",
    "    return result"
   ]
  },
  {
   "cell_type": "code",
   "execution_count": 54,
   "id": "6154ff11",
   "metadata": {},
   "outputs": [
    {
     "data": {
      "text/plain": [
       "'I Had A Good Day '"
      ]
     },
     "execution_count": 54,
     "metadata": {},
     "output_type": "execute_result"
    }
   ],
   "source": [
    "f2(temp)"
   ]
  },
  {
   "cell_type": "code",
   "execution_count": null,
   "id": "3a1e3b7f",
   "metadata": {},
   "outputs": [],
   "source": []
  }
 ],
 "metadata": {
  "kernelspec": {
   "display_name": "Python 3 (ipykernel)",
   "language": "python",
   "name": "python3"
  },
  "language_info": {
   "codemirror_mode": {
    "name": "ipython",
    "version": 3
   },
   "file_extension": ".py",
   "mimetype": "text/x-python",
   "name": "python",
   "nbconvert_exporter": "python",
   "pygments_lexer": "ipython3",
   "version": "3.11.3"
  }
 },
 "nbformat": 4,
 "nbformat_minor": 5
}
