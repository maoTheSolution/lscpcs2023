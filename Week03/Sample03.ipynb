{
 "cells": [
  {
   "cell_type": "code",
   "execution_count": 36,
   "id": "a1fc1b61",
   "metadata": {},
   "outputs": [],
   "source": [
    "def f1(arg):\n",
    "    index = -1\n",
    "    result = ''\n",
    "    for each in arg:\n",
    "        index = index + 1\n",
    "        \n",
    "        if index == 0:\n",
    "            if each >= 'a' and each <= 'z':\n",
    "                result = result + each.upper()\n",
    "            else :\n",
    "                result = result + each\n",
    "        else:\n",
    "            if each >= 'A' and each <= 'Z':\n",
    "                result = result + each.lower()\n",
    "            else :\n",
    "                result = result + each\n",
    "        \n",
    "    return result"
   ]
  },
  {
   "cell_type": "code",
   "execution_count": 37,
   "id": "f65b0aba",
   "metadata": {},
   "outputs": [
    {
     "data": {
      "text/plain": [
       "'Libertas'"
      ]
     },
     "execution_count": 37,
     "metadata": {},
     "output_type": "execute_result"
    }
   ],
   "source": [
    "f1('liBeRtaS')"
   ]
  },
  {
   "cell_type": "code",
   "execution_count": 23,
   "id": "184efd87",
   "metadata": {},
   "outputs": [],
   "source": [
    "temp = 'g'"
   ]
  },
  {
   "cell_type": "code",
   "execution_count": 24,
   "id": "9ae15fdd",
   "metadata": {},
   "outputs": [
    {
     "name": "stdout",
     "output_type": "stream",
     "text": [
      "yay\n"
     ]
    }
   ],
   "source": [
    "if temp >= 'a' and temp <= 'z':\n",
    "    print('yay')"
   ]
  },
  {
   "cell_type": "code",
   "execution_count": 27,
   "id": "ace63378",
   "metadata": {},
   "outputs": [],
   "source": [
    "temp = 'b'"
   ]
  },
  {
   "cell_type": "code",
   "execution_count": 28,
   "id": "71209ff6",
   "metadata": {},
   "outputs": [],
   "source": [
    "if temp >= 'A' and temp <= 'Z':\n",
    "    print('yay')"
   ]
  },
  {
   "cell_type": "code",
   "execution_count": 31,
   "id": "cf3b848b",
   "metadata": {},
   "outputs": [
    {
     "name": "stdout",
     "output_type": "stream",
     "text": [
      "lower\n",
      "lower\n",
      "upper\n",
      "lower\n",
      "upper\n",
      "lower\n",
      "lower\n",
      "upper\n"
     ]
    }
   ],
   "source": [
    "for each in 'liBeRtaS':\n",
    "    if each >= 'a' and each <= 'z':\n",
    "        print('lower')\n",
    "    elif each >= 'A' and each <= 'Z':\n",
    "        print('upper')\n",
    "    else:\n",
    "        print('else')"
   ]
  },
  {
   "cell_type": "code",
   "execution_count": 32,
   "id": "e491b838",
   "metadata": {},
   "outputs": [],
   "source": [
    "temp = 'liBeRtaS'\n"
   ]
  },
  {
   "cell_type": "code",
   "execution_count": 35,
   "id": "3d991f23",
   "metadata": {},
   "outputs": [
    {
     "data": {
      "text/plain": [
       "'i'"
      ]
     },
     "execution_count": 35,
     "metadata": {},
     "output_type": "execute_result"
    }
   ],
   "source": [
    "temp[1]"
   ]
  },
  {
   "cell_type": "code",
   "execution_count": 38,
   "id": "5899b13e",
   "metadata": {},
   "outputs": [],
   "source": [
    "temp = 'I Had A GoOD dAy'"
   ]
  },
  {
   "cell_type": "code",
   "execution_count": 53,
   "id": "2bb51b7f",
   "metadata": {},
   "outputs": [],
   "source": [
    "def f2(arg):\n",
    "    index = 0\n",
    "    result = ''\n",
    "    for each in arg.split():\n",
    "        result = result + f1(each)\n",
    "        result = result + ' '\n",
    "        index = index + 1\n",
    "    return result"
   ]
  },
  {
   "cell_type": "code",
   "execution_count": 54,
   "id": "8765b168",
   "metadata": {},
   "outputs": [
    {
     "data": {
      "text/plain": [
       "'I Had A Good Day '"
      ]
     },
     "execution_count": 54,
     "metadata": {},
     "output_type": "execute_result"
    }
   ],
   "source": [
    "f2(temp)"
   ]
  },
  {
   "cell_type": "code",
   "execution_count": null,
   "id": "60dd1fa5",
   "metadata": {},
   "outputs": [],
   "source": []
  }
 ],
 "metadata": {
  "kernelspec": {
   "display_name": "Python 3 (ipykernel)",
   "language": "python",
   "name": "python3"
  },
  "language_info": {
   "codemirror_mode": {
    "name": "ipython",
    "version": 3
   },
   "file_extension": ".py",
   "mimetype": "text/x-python",
   "name": "python",
   "nbconvert_exporter": "python",
   "pygments_lexer": "ipython3",
   "version": "3.11.3"
  }
 },
 "nbformat": 4,
 "nbformat_minor": 5
}
