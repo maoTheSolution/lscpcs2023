{
 "cells": [
  {
   "cell_type": "code",
   "execution_count": 1,
   "id": "329788c6",
   "metadata": {},
   "outputs": [
    {
     "data": {
      "text/plain": [
       "'\\nCome to the orchard in Spring.\\nThere is light and wine, and sweethearts\\nin the pomegranate flowers.\\n\\nIf you do not come, these do not matter.\\nIf you do come, these do not matter.\\n'"
      ]
     },
     "execution_count": 1,
     "metadata": {},
     "output_type": "execute_result"
    }
   ],
   "source": [
    "'''\n",
    "Come to the orchard in Spring.\n",
    "There is light and wine, and sweethearts\n",
    "in the pomegranate flowers.\n",
    "\n",
    "If you do not come, these do not matter.\n",
    "If you do come, these do not matter.\n",
    "'''"
   ]
  },
  {
   "cell_type": "code",
   "execution_count": 24,
   "id": "76522267",
   "metadata": {},
   "outputs": [],
   "source": [
    "sample = 'Eqog vq vjg qtejctf kp Urtkpi. Vjgtg ku nkijv cpf ykpg, cpf uyggvjgctvu kp vjg rqogitcpcvg hnqygtu. Kh {qw fq pqv eqog, vjgug fq pqv ocvvgt.Kh {qw fq eqog, vjgug fq pqv ocvvgt.'\n"
   ]
  },
  {
   "cell_type": "code",
   "execution_count": 25,
   "id": "878c61ff",
   "metadata": {},
   "outputs": [
    {
     "data": {
      "text/plain": [
       "'Eqog vq vjg qtejctf kp Urtkpi. Vjgtg ku nkijv cpf ykpg, cpf uyggvjgctvu kp vjg rqogitcpcvg hnqygtu. Kh {qw fq pqv eqog, vjgug fq pqv ocvvgt.Kh {qw fq eqog, vjgug fq pqv ocvvgt.'"
      ]
     },
     "execution_count": 25,
     "metadata": {},
     "output_type": "execute_result"
    }
   ],
   "source": [
    "sample"
   ]
  },
  {
   "cell_type": "code",
   "execution_count": 2,
   "id": "fda86356",
   "metadata": {},
   "outputs": [],
   "source": [
    "temp = \"Come to the orchard in Spring. There is light and wine, and sweethearts in the pomegranate flowers. If you do not come, these do not matter.If you do come, these do not matter.\""
   ]
  },
  {
   "cell_type": "code",
   "execution_count": 3,
   "id": "1bb5f9f0",
   "metadata": {},
   "outputs": [
    {
     "data": {
      "text/plain": [
       "'Come to the orchard in Spring. There is light and wine, and sweethearts in the pomegranate flowers. If you do not come, these do not matter.If you do come, these do not matter.'"
      ]
     },
     "execution_count": 3,
     "metadata": {},
     "output_type": "execute_result"
    }
   ],
   "source": [
    "temp"
   ]
  },
  {
   "cell_type": "code",
   "execution_count": null,
   "id": "bda91886",
   "metadata": {},
   "outputs": [],
   "source": []
  }
 ],
 "metadata": {
  "kernelspec": {
   "display_name": "Python 3 (ipykernel)",
   "language": "python",
   "name": "python3"
  },
  "language_info": {
   "codemirror_mode": {
    "name": "ipython",
    "version": 3
   },
   "file_extension": ".py",
   "mimetype": "text/x-python",
   "name": "python",
   "nbconvert_exporter": "python",
   "pygments_lexer": "ipython3",
   "version": "3.11.3"
  }
 },
 "nbformat": 4,
 "nbformat_minor": 5
}
