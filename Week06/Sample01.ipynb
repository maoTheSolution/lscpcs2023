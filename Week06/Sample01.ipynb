{
 "cells": [
  {
   "cell_type": "code",
   "execution_count": 1,
   "id": "2743dc4e",
   "metadata": {},
   "outputs": [
    {
     "name": "stdout",
     "output_type": "stream",
     "text": [
      "Enter the length of the side of the square: 200\n",
      "Enter the color name or hex value of color(# RRGGBB): Green\n"
     ]
    }
   ],
   "source": [
    "import turtle \n",
    "  \n",
    "# creating turtle pen \n",
    "t = turtle.Turtle() \n",
    "  \n",
    "# taking input for the side of the square \n",
    "s = int(input(\"Enter the length of the side of the square: \")) \n",
    "  \n",
    "# taking the input for the color \n",
    "col = input(\"Enter the color name or hex value of color(# RRGGBB): \") \n",
    "  \n",
    "# set the fillcolor \n",
    "t.fillcolor(col) \n",
    "  \n",
    "# start the filling color \n",
    "t.begin_fill() \n",
    "  \n",
    "# drawing the square of side s \n",
    "for _ in range(4): \n",
    "    t.forward(s) \n",
    "    t.right(90) \n",
    "# ending the filling of the color \n",
    "t.end_fill() "
   ]
  },
  {
   "cell_type": "code",
   "execution_count": 3,
   "id": "eb026ba3",
   "metadata": {},
   "outputs": [
    {
     "ename": "AttributeError",
     "evalue": "'Turtle' object has no attribute 'bye'",
     "output_type": "error",
     "traceback": [
      "\u001b[0;31m---------------------------------------------------------------------------\u001b[0m",
      "\u001b[0;31mAttributeError\u001b[0m                            Traceback (most recent call last)",
      "Cell \u001b[0;32mIn[3], line 1\u001b[0m\n\u001b[0;32m----> 1\u001b[0m t\u001b[38;5;241m.\u001b[39mbye()\n",
      "\u001b[0;31mAttributeError\u001b[0m: 'Turtle' object has no attribute 'bye'"
     ]
    }
   ],
   "source": []
  },
  {
   "cell_type": "code",
   "execution_count": 10,
   "id": "7039f7eb",
   "metadata": {},
   "outputs": [],
   "source": []
  },
  {
   "cell_type": "code",
   "execution_count": null,
   "id": "832aacaf",
   "metadata": {},
   "outputs": [],
   "source": []
  }
 ],
 "metadata": {
  "kernelspec": {
   "display_name": "Python 3 (ipykernel)",
   "language": "python",
   "name": "python3"
  },
  "language_info": {
   "codemirror_mode": {
    "name": "ipython",
    "version": 3
   },
   "file_extension": ".py",
   "mimetype": "text/x-python",
   "name": "python",
   "nbconvert_exporter": "python",
   "pygments_lexer": "ipython3",
   "version": "3.11.3"
  }
 },
 "nbformat": 4,
 "nbformat_minor": 5
}
