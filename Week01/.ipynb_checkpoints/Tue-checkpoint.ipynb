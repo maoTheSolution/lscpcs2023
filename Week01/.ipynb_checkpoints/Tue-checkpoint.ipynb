{
 "cells": [
  {
   "cell_type": "code",
   "execution_count": 1,
   "id": "103d9dd9",
   "metadata": {},
   "outputs": [],
   "source": [
    "def blackCat():\n",
    "    print(\"Black Cat\")"
   ]
  },
  {
   "cell_type": "code",
   "execution_count": 6,
   "id": "bf1cacaa",
   "metadata": {},
   "outputs": [],
   "source": [
    "def blackPen():\n",
    "    return \"Black\""
   ]
  },
  {
   "cell_type": "code",
   "execution_count": 10,
   "id": "8a508b1c",
   "metadata": {},
   "outputs": [
    {
     "name": "stdout",
     "output_type": "stream",
     "text": [
      "안녕하세요 저는 지금 Black 찾고있어요\n"
     ]
    }
   ],
   "source": [
    "print(\"안녕하세요 저는 지금 \" + blackPen() +\" 찾고있어요\")"
   ]
  },
  {
   "cell_type": "code",
   "execution_count": 11,
   "id": "5a31bc77",
   "metadata": {},
   "outputs": [],
   "source": [
    "def call8():\n",
    "    return 8"
   ]
  },
  {
   "cell_type": "code",
   "execution_count": 12,
   "id": "21e77312",
   "metadata": {},
   "outputs": [
    {
     "data": {
      "text/plain": [
       "8"
      ]
     },
     "execution_count": 12,
     "metadata": {},
     "output_type": "execute_result"
    }
   ],
   "source": [
    "call8()"
   ]
  },
  {
   "cell_type": "code",
   "execution_count": 13,
   "id": "62ad561b",
   "metadata": {},
   "outputs": [
    {
     "name": "stdout",
     "output_type": "stream",
     "text": [
      "18\n"
     ]
    }
   ],
   "source": [
    "print(call8()+10)"
   ]
  },
  {
   "cell_type": "code",
   "execution_count": 14,
   "id": "69a43c13",
   "metadata": {},
   "outputs": [],
   "source": [
    "def blackCat(name):\n",
    "    print(\"Black Cat, \" + name)"
   ]
  },
  {
   "cell_type": "code",
   "execution_count": 15,
   "id": "4560664a",
   "metadata": {},
   "outputs": [
    {
     "name": "stdout",
     "output_type": "stream",
     "text": [
      "Black Cat, HY\n"
     ]
    }
   ],
   "source": [
    "blackCat(\"HY\")"
   ]
  },
  {
   "cell_type": "code",
   "execution_count": 16,
   "id": "02c3e992",
   "metadata": {},
   "outputs": [],
   "source": [
    "def sum01(first, second):\n",
    "    return first + second"
   ]
  },
  {
   "cell_type": "code",
   "execution_count": 20,
   "id": "61cfcf66",
   "metadata": {},
   "outputs": [
    {
     "name": "stdout",
     "output_type": "stream",
     "text": [
      "170\n"
     ]
    }
   ],
   "source": [
    "print(sum01(7, 10) * 10)"
   ]
  },
  {
   "cell_type": "code",
   "execution_count": 18,
   "id": "bcc84655",
   "metadata": {},
   "outputs": [],
   "source": [
    "def sum02(first, second):\n",
    "    print(first + second)"
   ]
  },
  {
   "cell_type": "code",
   "execution_count": 19,
   "id": "ca23dcb2",
   "metadata": {},
   "outputs": [
    {
     "name": "stdout",
     "output_type": "stream",
     "text": [
      "17\n"
     ]
    }
   ],
   "source": [
    "sum02(7, 10)"
   ]
  },
  {
   "cell_type": "code",
   "execution_count": 25,
   "id": "6e9b93ad",
   "metadata": {},
   "outputs": [],
   "source": [
    "def sample(first, second):\n",
    "    return first // second"
   ]
  },
  {
   "cell_type": "code",
   "execution_count": 26,
   "id": "f56ba432",
   "metadata": {},
   "outputs": [
    {
     "data": {
      "text/plain": [
       "3"
      ]
     },
     "execution_count": 26,
     "metadata": {},
     "output_type": "execute_result"
    }
   ],
   "source": [
    "sample(12, 4)"
   ]
  },
  {
   "cell_type": "code",
   "execution_count": null,
   "id": "a97d04c3",
   "metadata": {},
   "outputs": [],
   "source": []
  },
  {
   "cell_type": "code",
   "execution_count": null,
   "id": "dc8fb96b",
   "metadata": {},
   "outputs": [],
   "source": []
  },
  {
   "cell_type": "code",
   "execution_count": null,
   "id": "72ed2f7c",
   "metadata": {},
   "outputs": [],
   "source": []
  },
  {
   "cell_type": "code",
   "execution_count": null,
   "id": "d14e4a99",
   "metadata": {},
   "outputs": [],
   "source": []
  },
  {
   "cell_type": "code",
   "execution_count": null,
   "id": "0e1ae07b",
   "metadata": {},
   "outputs": [],
   "source": []
  },
  {
   "cell_type": "code",
   "execution_count": 22,
   "id": "f437de3f",
   "metadata": {},
   "outputs": [
    {
     "name": "stdout",
     "output_type": "stream",
     "text": [
      "14\n"
     ]
    }
   ],
   "source": [
    "print(sum01(8, 6))"
   ]
  },
  {
   "cell_type": "code",
   "execution_count": null,
   "id": "55255597",
   "metadata": {},
   "outputs": [],
   "source": []
  },
  {
   "cell_type": "code",
   "execution_count": null,
   "id": "8ad1049b",
   "metadata": {},
   "outputs": [],
   "source": []
  },
  {
   "cell_type": "code",
   "execution_count": null,
   "id": "8c6c3936",
   "metadata": {},
   "outputs": [],
   "source": []
  },
  {
   "cell_type": "code",
   "execution_count": 7,
   "id": "239cf203",
   "metadata": {},
   "outputs": [
    {
     "data": {
      "text/plain": [
       "'Black'"
      ]
     },
     "execution_count": 7,
     "metadata": {},
     "output_type": "execute_result"
    }
   ],
   "source": [
    "blackPen()"
   ]
  },
  {
   "cell_type": "code",
   "execution_count": 4,
   "id": "68be4ac0",
   "metadata": {},
   "outputs": [
    {
     "name": "stdout",
     "output_type": "stream",
     "text": [
      "Black Cat\n"
     ]
    }
   ],
   "source": [
    "blackCat()"
   ]
  },
  {
   "cell_type": "code",
   "execution_count": 5,
   "id": "5040496a",
   "metadata": {},
   "outputs": [
    {
     "name": "stdout",
     "output_type": "stream",
     "text": [
      "Black Cat\n",
      "Black Cat\n",
      "Black Cat\n",
      "Black Cat\n",
      "Black Cat\n",
      "Black Cat\n",
      "Black Cat\n",
      "Black Cat\n",
      "Black Cat\n",
      "Black Cat\n"
     ]
    }
   ],
   "source": [
    "for each in range(10):\n",
    "    blackCat()"
   ]
  },
  {
   "cell_type": "code",
   "execution_count": null,
   "id": "71632e38",
   "metadata": {},
   "outputs": [],
   "source": []
  }
 ],
 "metadata": {
  "kernelspec": {
   "display_name": "Python 3 (ipykernel)",
   "language": "python",
   "name": "python3"
  },
  "language_info": {
   "codemirror_mode": {
    "name": "ipython",
    "version": 3
   },
   "file_extension": ".py",
   "mimetype": "text/x-python",
   "name": "python",
   "nbconvert_exporter": "python",
   "pygments_lexer": "ipython3",
   "version": "3.11.3"
  }
 },
 "nbformat": 4,
 "nbformat_minor": 5
}
