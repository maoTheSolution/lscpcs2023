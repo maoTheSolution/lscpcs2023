{
 "cells": [
  {
   "cell_type": "code",
   "execution_count": 1,
   "id": "70a303b8",
   "metadata": {},
   "outputs": [],
   "source": [
    "def blackCat():\n",
    "    print(\"Black Cat\")"
   ]
  },
  {
   "cell_type": "code",
   "execution_count": 6,
   "id": "3274173f",
   "metadata": {},
   "outputs": [],
   "source": [
    "def blackPen():\n",
    "    return \"Black\""
   ]
  },
  {
   "cell_type": "code",
   "execution_count": 10,
   "id": "02f7e058",
   "metadata": {},
   "outputs": [
    {
     "name": "stdout",
     "output_type": "stream",
     "text": [
      "안녕하세요 저는 지금 Black 찾고있어요\n"
     ]
    }
   ],
   "source": [
    "print(\"안녕하세요 저는 지금 \" + blackPen() +\" 찾고있어요\")"
   ]
  },
  {
   "cell_type": "code",
   "execution_count": 11,
   "id": "87c0b041",
   "metadata": {},
   "outputs": [],
   "source": [
    "def call8():\n",
    "    return 8"
   ]
  },
  {
   "cell_type": "code",
   "execution_count": 12,
   "id": "8f343154",
   "metadata": {},
   "outputs": [
    {
     "data": {
      "text/plain": [
       "8"
      ]
     },
     "execution_count": 12,
     "metadata": {},
     "output_type": "execute_result"
    }
   ],
   "source": [
    "call8()"
   ]
  },
  {
   "cell_type": "code",
   "execution_count": 13,
   "id": "973306ee",
   "metadata": {},
   "outputs": [
    {
     "name": "stdout",
     "output_type": "stream",
     "text": [
      "18\n"
     ]
    }
   ],
   "source": [
    "print(call8()+10)"
   ]
  },
  {
   "cell_type": "code",
   "execution_count": 14,
   "id": "d3a45c6c",
   "metadata": {},
   "outputs": [],
   "source": [
    "def blackCat(name):\n",
    "    print(\"Black Cat, \" + name)"
   ]
  },
  {
   "cell_type": "code",
   "execution_count": 15,
   "id": "7965e235",
   "metadata": {},
   "outputs": [
    {
     "name": "stdout",
     "output_type": "stream",
     "text": [
      "Black Cat, HY\n"
     ]
    }
   ],
   "source": [
    "blackCat(\"HY\")"
   ]
  },
  {
   "cell_type": "code",
   "execution_count": 16,
   "id": "dd8e4a0d",
   "metadata": {},
   "outputs": [],
   "source": [
    "def sum01(first, second):\n",
    "    return first + second"
   ]
  },
  {
   "cell_type": "code",
   "execution_count": 20,
   "id": "cc93fb09",
   "metadata": {},
   "outputs": [
    {
     "name": "stdout",
     "output_type": "stream",
     "text": [
      "170\n"
     ]
    }
   ],
   "source": [
    "print(sum01(7, 10) * 10)"
   ]
  },
  {
   "cell_type": "code",
   "execution_count": 18,
   "id": "af612db3",
   "metadata": {},
   "outputs": [],
   "source": [
    "def sum02(first, second):\n",
    "    print(first + second)"
   ]
  },
  {
   "cell_type": "code",
   "execution_count": 19,
   "id": "8877ebaf",
   "metadata": {},
   "outputs": [
    {
     "name": "stdout",
     "output_type": "stream",
     "text": [
      "17\n"
     ]
    }
   ],
   "source": [
    "sum02(7, 10)"
   ]
  },
  {
   "cell_type": "code",
   "execution_count": 32,
   "id": "ae0a5b39",
   "metadata": {},
   "outputs": [],
   "source": [
    "def sample(first, second):\n",
    "    \n",
    "    try:\n",
    "        return first // second\n",
    "    \n",
    "    except ZeroDivisionError:\n",
    "        print(\"error\")"
   ]
  },
  {
   "cell_type": "code",
   "execution_count": 33,
   "id": "145ad927",
   "metadata": {},
   "outputs": [
    {
     "data": {
      "text/plain": [
       "3"
      ]
     },
     "execution_count": 33,
     "metadata": {},
     "output_type": "execute_result"
    }
   ],
   "source": [
    "sample(12, 4)"
   ]
  },
  {
   "cell_type": "code",
   "execution_count": 34,
   "id": "c8e5ff63",
   "metadata": {},
   "outputs": [
    {
     "data": {
      "text/plain": [
       "0"
      ]
     },
     "execution_count": 34,
     "metadata": {},
     "output_type": "execute_result"
    }
   ],
   "source": [
    "sample(4, 7)"
   ]
  },
  {
   "cell_type": "code",
   "execution_count": 35,
   "id": "602d7ef9",
   "metadata": {},
   "outputs": [
    {
     "data": {
      "text/plain": [
       "8"
      ]
     },
     "execution_count": 35,
     "metadata": {},
     "output_type": "execute_result"
    }
   ],
   "source": [
    "sample(40, 5)"
   ]
  },
  {
   "cell_type": "code",
   "execution_count": 36,
   "id": "6e5a96bc",
   "metadata": {},
   "outputs": [
    {
     "name": "stdout",
     "output_type": "stream",
     "text": [
      "error\n"
     ]
    }
   ],
   "source": [
    "sample(40, 0)"
   ]
  },
  {
   "cell_type": "code",
   "execution_count": null,
   "id": "f986fcfd",
   "metadata": {},
   "outputs": [],
   "source": []
  },
  {
   "cell_type": "code",
   "execution_count": null,
   "id": "57697983",
   "metadata": {},
   "outputs": [],
   "source": []
  },
  {
   "cell_type": "code",
   "execution_count": null,
   "id": "eb1d82ac",
   "metadata": {},
   "outputs": [],
   "source": []
  },
  {
   "cell_type": "code",
   "execution_count": null,
   "id": "665388ed",
   "metadata": {},
   "outputs": [],
   "source": []
  },
  {
   "cell_type": "code",
   "execution_count": null,
   "id": "7692ce57",
   "metadata": {},
   "outputs": [],
   "source": []
  },
  {
   "cell_type": "code",
   "execution_count": null,
   "id": "ac14e1a0",
   "metadata": {},
   "outputs": [],
   "source": []
  },
  {
   "cell_type": "code",
   "execution_count": 22,
   "id": "b3297dd4",
   "metadata": {},
   "outputs": [
    {
     "name": "stdout",
     "output_type": "stream",
     "text": [
      "14\n"
     ]
    }
   ],
   "source": [
    "print(sum01(8, 6))"
   ]
  },
  {
   "cell_type": "code",
   "execution_count": null,
   "id": "314d0c45",
   "metadata": {},
   "outputs": [],
   "source": []
  },
  {
   "cell_type": "code",
   "execution_count": null,
   "id": "755188d7",
   "metadata": {},
   "outputs": [],
   "source": []
  },
  {
   "cell_type": "code",
   "execution_count": null,
   "id": "ab8d32ff",
   "metadata": {},
   "outputs": [],
   "source": []
  },
  {
   "cell_type": "code",
   "execution_count": 7,
   "id": "91a88e10",
   "metadata": {},
   "outputs": [
    {
     "data": {
      "text/plain": [
       "'Black'"
      ]
     },
     "execution_count": 7,
     "metadata": {},
     "output_type": "execute_result"
    }
   ],
   "source": [
    "blackPen()"
   ]
  },
  {
   "cell_type": "code",
   "execution_count": 4,
   "id": "5ca9bee9",
   "metadata": {},
   "outputs": [
    {
     "name": "stdout",
     "output_type": "stream",
     "text": [
      "Black Cat\n"
     ]
    }
   ],
   "source": [
    "blackCat()"
   ]
  },
  {
   "cell_type": "code",
   "execution_count": 5,
   "id": "885517cc",
   "metadata": {},
   "outputs": [
    {
     "name": "stdout",
     "output_type": "stream",
     "text": [
      "Black Cat\n",
      "Black Cat\n",
      "Black Cat\n",
      "Black Cat\n",
      "Black Cat\n",
      "Black Cat\n",
      "Black Cat\n",
      "Black Cat\n",
      "Black Cat\n",
      "Black Cat\n"
     ]
    }
   ],
   "source": [
    "for each in range(10):\n",
    "    blackCat()"
   ]
  },
  {
   "cell_type": "code",
   "execution_count": null,
   "id": "0fbd07a4",
   "metadata": {},
   "outputs": [],
   "source": []
  }
 ],
 "metadata": {
  "kernelspec": {
   "display_name": "Python 3 (ipykernel)",
   "language": "python",
   "name": "python3"
  },
  "language_info": {
   "codemirror_mode": {
    "name": "ipython",
    "version": 3
   },
   "file_extension": ".py",
   "mimetype": "text/x-python",
   "name": "python",
   "nbconvert_exporter": "python",
   "pygments_lexer": "ipython3",
   "version": "3.11.3"
  }
 },
 "nbformat": 4,
 "nbformat_minor": 5
}
