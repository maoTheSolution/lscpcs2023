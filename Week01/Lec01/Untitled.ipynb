{
 "cells": [
  {
   "cell_type": "code",
   "execution_count": 7,
   "id": "2c3d78ff",
   "metadata": {},
   "outputs": [
    {
     "name": "stdout",
     "output_type": "stream",
     "text": [
      "enter any number : 34\n"
     ]
    }
   ],
   "source": [
    "temp = int(input(\"enter any number : \"))"
   ]
  },
  {
   "cell_type": "code",
   "execution_count": 8,
   "id": "b07cc34e",
   "metadata": {},
   "outputs": [],
   "source": [
    "result = list()"
   ]
  },
  {
   "cell_type": "code",
   "execution_count": 9,
   "id": "24bec5a8",
   "metadata": {},
   "outputs": [],
   "source": [
    "while(temp > 0):\n",
    "    rem = temp % 2\n",
    "    result.append(rem)\n",
    "    temp = temp // 2"
   ]
  },
  {
   "cell_type": "code",
   "execution_count": 10,
   "id": "aaf5fb96",
   "metadata": {},
   "outputs": [],
   "source": [
    "result.reverse()"
   ]
  },
  {
   "cell_type": "code",
   "execution_count": 11,
   "id": "e6661315",
   "metadata": {},
   "outputs": [
    {
     "data": {
      "text/plain": [
       "[1, 0, 0, 0, 1, 0]"
      ]
     },
     "execution_count": 11,
     "metadata": {},
     "output_type": "execute_result"
    }
   ],
   "source": [
    "result"
   ]
  },
  {
   "cell_type": "code",
   "execution_count": 20,
   "id": "ac99d2bb",
   "metadata": {},
   "outputs": [],
   "source": [
    "def biToDec(anything):\n",
    "    result = list()\n",
    "    while(anything >0):\n",
    "        rem = anything%2\n",
    "        result.append(rem)\n",
    "        anything = anything // 2\n",
    "    result.reverse()\n",
    "    return result"
   ]
  },
  {
   "cell_type": "code",
   "execution_count": 21,
   "id": "bad02d52",
   "metadata": {},
   "outputs": [
    {
     "name": "stdout",
     "output_type": "stream",
     "text": [
      "Enter any number : 13\n"
     ]
    },
    {
     "data": {
      "text/plain": [
       "[1, 1, 0, 1]"
      ]
     },
     "execution_count": 21,
     "metadata": {},
     "output_type": "execute_result"
    }
   ],
   "source": [
    "biToDec(int(input(\"Enter any number : \")))"
   ]
  },
  {
   "cell_type": "code",
   "execution_count": null,
   "id": "444b9be3",
   "metadata": {},
   "outputs": [],
   "source": []
  },
  {
   "cell_type": "code",
   "execution_count": 22,
   "id": "1a1452a1",
   "metadata": {},
   "outputs": [
    {
     "data": {
      "text/plain": [
       "6.5"
      ]
     },
     "execution_count": 22,
     "metadata": {},
     "output_type": "execute_result"
    }
   ],
   "source": [
    "13/2"
   ]
  },
  {
   "cell_type": "code",
   "execution_count": 23,
   "id": "6c6e676b",
   "metadata": {},
   "outputs": [
    {
     "data": {
      "text/plain": [
       "6"
      ]
     },
     "execution_count": 23,
     "metadata": {},
     "output_type": "execute_result"
    }
   ],
   "source": [
    "13//2"
   ]
  },
  {
   "cell_type": "code",
   "execution_count": 24,
   "id": "599af5ae",
   "metadata": {},
   "outputs": [
    {
     "data": {
      "text/plain": [
       "1"
      ]
     },
     "execution_count": 24,
     "metadata": {},
     "output_type": "execute_result"
    }
   ],
   "source": [
    "13%2"
   ]
  },
  {
   "cell_type": "code",
   "execution_count": 25,
   "id": "2bbad5cb",
   "metadata": {},
   "outputs": [
    {
     "data": {
      "text/plain": [
       "range(0, 10)"
      ]
     },
     "execution_count": 25,
     "metadata": {},
     "output_type": "execute_result"
    }
   ],
   "source": [
    "range(10)"
   ]
  },
  {
   "cell_type": "code",
   "execution_count": 26,
   "id": "f44b1439",
   "metadata": {},
   "outputs": [
    {
     "data": {
      "text/plain": [
       "[0, 1, 2, 3, 4, 5, 6, 7, 8, 9]"
      ]
     },
     "execution_count": 26,
     "metadata": {},
     "output_type": "execute_result"
    }
   ],
   "source": [
    "list(range(10))"
   ]
  },
  {
   "cell_type": "code",
   "execution_count": null,
   "id": "6aac3aae",
   "metadata": {},
   "outputs": [],
   "source": []
  },
  {
   "cell_type": "code",
   "execution_count": 12,
   "id": "163c9ac4",
   "metadata": {},
   "outputs": [
    {
     "name": "stdout",
     "output_type": "stream",
     "text": [
      "Enter any number : 8\n"
     ]
    }
   ],
   "source": [
    "target = int(input(\"Enter any number : \"))"
   ]
  },
  {
   "cell_type": "code",
   "execution_count": 13,
   "id": "c67aecd0",
   "metadata": {},
   "outputs": [
    {
     "name": "stdout",
     "output_type": "stream",
     "text": [
      "Enter a number : 24\n"
     ]
    }
   ],
   "source": [
    "sample = int(input(\"Enter a number : \"))"
   ]
  },
  {
   "cell_type": "code",
   "execution_count": 14,
   "id": "61afded6",
   "metadata": {},
   "outputs": [],
   "source": [
    "result = list()\n",
    "while(sample >0):\n",
    "    rem = sample%target\n",
    "    result.append(rem)\n",
    "    sample = sample // target\n",
    "result.reverse()"
   ]
  },
  {
   "cell_type": "code",
   "execution_count": 15,
   "id": "0a71dc24",
   "metadata": {},
   "outputs": [
    {
     "data": {
      "text/plain": [
       "[3, 0]"
      ]
     },
     "execution_count": 15,
     "metadata": {},
     "output_type": "execute_result"
    }
   ],
   "source": [
    "result"
   ]
  },
  {
   "cell_type": "code",
   "execution_count": null,
   "id": "85902518",
   "metadata": {},
   "outputs": [],
   "source": []
  }
 ],
 "metadata": {
  "kernelspec": {
   "display_name": "Python 3 (ipykernel)",
   "language": "python",
   "name": "python3"
  },
  "language_info": {
   "codemirror_mode": {
    "name": "ipython",
    "version": 3
   },
   "file_extension": ".py",
   "mimetype": "text/x-python",
   "name": "python",
   "nbconvert_exporter": "python",
   "pygments_lexer": "ipython3",
   "version": "3.11.3"
  }
 },
 "nbformat": 4,
 "nbformat_minor": 5
}
