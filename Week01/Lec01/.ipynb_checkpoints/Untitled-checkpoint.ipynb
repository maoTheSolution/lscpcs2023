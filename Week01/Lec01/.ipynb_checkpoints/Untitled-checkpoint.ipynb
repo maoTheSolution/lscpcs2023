{
 "cells": [
  {
   "cell_type": "code",
   "execution_count": 7,
   "id": "2c3d78ff",
   "metadata": {},
   "outputs": [
    {
     "name": "stdout",
     "output_type": "stream",
     "text": [
      "enter any number : 34\n"
     ]
    }
   ],
   "source": [
    "temp = int(input(\"enter any number : \"))"
   ]
  },
  {
   "cell_type": "code",
   "execution_count": 8,
   "id": "b07cc34e",
   "metadata": {},
   "outputs": [],
   "source": [
    "result = list()"
   ]
  },
  {
   "cell_type": "code",
   "execution_count": 9,
   "id": "24bec5a8",
   "metadata": {},
   "outputs": [],
   "source": [
    "while(temp > 0):\n",
    "    rem = temp % 2\n",
    "    result.append(rem)\n",
    "    temp = temp // 2"
   ]
  },
  {
   "cell_type": "code",
   "execution_count": 10,
   "id": "aaf5fb96",
   "metadata": {},
   "outputs": [],
   "source": [
    "result.reverse()"
   ]
  },
  {
   "cell_type": "code",
   "execution_count": 11,
   "id": "e6661315",
   "metadata": {},
   "outputs": [
    {
     "data": {
      "text/plain": [
       "[1, 0, 0, 0, 1, 0]"
      ]
     },
     "execution_count": 11,
     "metadata": {},
     "output_type": "execute_result"
    }
   ],
   "source": [
    "result"
   ]
  },
  {
   "cell_type": "code",
   "execution_count": null,
   "id": "213aa404",
   "metadata": {},
   "outputs": [],
   "source": []
  },
  {
   "cell_type": "code",
   "execution_count": 4,
   "id": "b12ee7e6",
   "metadata": {},
   "outputs": [],
   "source": [
    "result = []\n",
    "result = list()"
   ]
  },
  {
   "cell_type": "raw",
   "id": "c0a8acd9",
   "metadata": {},
   "source": []
  },
  {
   "cell_type": "code",
   "execution_count": null,
   "id": "4adc55d6",
   "metadata": {},
   "outputs": [],
   "source": []
  },
  {
   "cell_type": "code",
   "execution_count": null,
   "id": "b7155796",
   "metadata": {},
   "outputs": [],
   "source": []
  }
 ],
 "metadata": {
  "kernelspec": {
   "display_name": "Python 3 (ipykernel)",
   "language": "python",
   "name": "python3"
  },
  "language_info": {
   "codemirror_mode": {
    "name": "ipython",
    "version": 3
   },
   "file_extension": ".py",
   "mimetype": "text/x-python",
   "name": "python",
   "nbconvert_exporter": "python",
   "pygments_lexer": "ipython3",
   "version": "3.11.3"
  }
 },
 "nbformat": 4,
 "nbformat_minor": 5
}
