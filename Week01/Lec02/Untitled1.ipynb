{
 "cells": [
  {
   "cell_type": "code",
   "execution_count": 26,
   "id": "4ba7aae6",
   "metadata": {},
   "outputs": [
    {
     "name": "stdout",
     "output_type": "stream",
     "text": [
      "Enter any number : 6\n"
     ]
    }
   ],
   "source": [
    "firstX = int(input(\"Enter any number : \"))"
   ]
  },
  {
   "cell_type": "code",
   "execution_count": 2,
   "id": "fe5bc787",
   "metadata": {},
   "outputs": [
    {
     "name": "stdout",
     "output_type": "stream",
     "text": [
      "Enter any number : 4\n"
     ]
    }
   ],
   "source": [
    "firstY = int(input(\"Enter any number : \"))"
   ]
  },
  {
   "cell_type": "code",
   "execution_count": 3,
   "id": "1f1ac59e",
   "metadata": {},
   "outputs": [
    {
     "name": "stdout",
     "output_type": "stream",
     "text": [
      "Etner any number :16\n"
     ]
    }
   ],
   "source": [
    "secondX = int(input(\"Etner any number :\"))"
   ]
  },
  {
   "cell_type": "code",
   "execution_count": 4,
   "id": "3119e0fd",
   "metadata": {},
   "outputs": [
    {
     "name": "stdout",
     "output_type": "stream",
     "text": [
      "Enter any number : 32\n"
     ]
    }
   ],
   "source": [
    "secondY = int(input(\"Enter any number : \"))"
   ]
  },
  {
   "cell_type": "code",
   "execution_count": 5,
   "id": "105c827c",
   "metadata": {},
   "outputs": [],
   "source": [
    "midX = (firstX + secondX)/2"
   ]
  },
  {
   "cell_type": "code",
   "execution_count": 6,
   "id": "29920c90",
   "metadata": {},
   "outputs": [
    {
     "data": {
      "text/plain": [
       "9.5"
      ]
     },
     "execution_count": 6,
     "metadata": {},
     "output_type": "execute_result"
    }
   ],
   "source": [
    "midX"
   ]
  },
  {
   "cell_type": "code",
   "execution_count": 8,
   "id": "7eaab186",
   "metadata": {},
   "outputs": [],
   "source": [
    "midY = (firstY + secondY)/2"
   ]
  },
  {
   "cell_type": "code",
   "execution_count": 9,
   "id": "3afcc488",
   "metadata": {},
   "outputs": [
    {
     "data": {
      "text/plain": [
       "18.0"
      ]
     },
     "execution_count": 9,
     "metadata": {},
     "output_type": "execute_result"
    }
   ],
   "source": [
    "midY"
   ]
  },
  {
   "cell_type": "code",
   "execution_count": 10,
   "id": "740d9a37",
   "metadata": {},
   "outputs": [
    {
     "name": "stdout",
     "output_type": "stream",
     "text": [
      "P( 9.5 , 18.0 )\n"
     ]
    }
   ],
   "source": [
    "print(\"P(\", midX, \",\", midY, \")\")"
   ]
  },
  {
   "cell_type": "code",
   "execution_count": 11,
   "id": "53136f78",
   "metadata": {},
   "outputs": [],
   "source": [
    "def sayHello():\n",
    "    return \"Hello\""
   ]
  },
  {
   "cell_type": "code",
   "execution_count": 12,
   "id": "5090b187",
   "metadata": {},
   "outputs": [
    {
     "data": {
      "text/plain": [
       "'Hello'"
      ]
     },
     "execution_count": 12,
     "metadata": {},
     "output_type": "execute_result"
    }
   ],
   "source": [
    "sayHello()"
   ]
  },
  {
   "cell_type": "code",
   "execution_count": 15,
   "id": "11a6a279",
   "metadata": {},
   "outputs": [
    {
     "name": "stdout",
     "output_type": "stream",
     "text": [
      "Hello\n",
      "Hello\n",
      "Hello\n",
      "Hello\n",
      "Hello\n",
      "Hello\n",
      "Hello\n",
      "Hello\n",
      "Hello\n",
      "Hello\n"
     ]
    }
   ],
   "source": [
    "for each in range(10):\n",
    "    print(sayHello())"
   ]
  },
  {
   "cell_type": "code",
   "execution_count": 16,
   "id": "86030b53",
   "metadata": {},
   "outputs": [],
   "source": [
    "def add(any):\n",
    "    return any+8"
   ]
  },
  {
   "cell_type": "code",
   "execution_count": 17,
   "id": "3844da91",
   "metadata": {},
   "outputs": [
    {
     "data": {
      "text/plain": [
       "15"
      ]
     },
     "execution_count": 17,
     "metadata": {},
     "output_type": "execute_result"
    }
   ],
   "source": [
    "add(7)"
   ]
  },
  {
   "cell_type": "code",
   "execution_count": 19,
   "id": "22550c15",
   "metadata": {},
   "outputs": [
    {
     "name": "stdout",
     "output_type": "stream",
     "text": [
      "Enter any num : 44\n"
     ]
    },
    {
     "data": {
      "text/plain": [
       "52"
      ]
     },
     "execution_count": 19,
     "metadata": {},
     "output_type": "execute_result"
    }
   ],
   "source": [
    "add(int(input(\"Enter any num : \")))"
   ]
  },
  {
   "cell_type": "code",
   "execution_count": 21,
   "id": "da0a9fca",
   "metadata": {},
   "outputs": [
    {
     "data": {
      "text/plain": [
       "'temp is '"
      ]
     },
     "execution_count": 21,
     "metadata": {},
     "output_type": "execute_result"
    }
   ],
   "source": [
    "\"temp\" + \" is \""
   ]
  },
  {
   "cell_type": "code",
   "execution_count": 22,
   "id": "f683438a",
   "metadata": {},
   "outputs": [
    {
     "data": {
      "text/plain": [
       "'56'"
      ]
     },
     "execution_count": 22,
     "metadata": {},
     "output_type": "execute_result"
    }
   ],
   "source": [
    "'56'"
   ]
  },
  {
   "cell_type": "code",
   "execution_count": 23,
   "id": "214939f8",
   "metadata": {},
   "outputs": [
    {
     "data": {
      "text/plain": [
       "str"
      ]
     },
     "execution_count": 23,
     "metadata": {},
     "output_type": "execute_result"
    }
   ],
   "source": [
    "type('56')"
   ]
  },
  {
   "cell_type": "code",
   "execution_count": 24,
   "id": "21812262",
   "metadata": {},
   "outputs": [
    {
     "data": {
      "text/plain": [
       "77"
      ]
     },
     "execution_count": 24,
     "metadata": {},
     "output_type": "execute_result"
    }
   ],
   "source": [
    "77"
   ]
  },
  {
   "cell_type": "code",
   "execution_count": 25,
   "id": "3e63be70",
   "metadata": {},
   "outputs": [
    {
     "data": {
      "text/plain": [
       "'77'"
      ]
     },
     "execution_count": 25,
     "metadata": {},
     "output_type": "execute_result"
    }
   ],
   "source": [
    "str(77)"
   ]
  },
  {
   "cell_type": "code",
   "execution_count": null,
   "id": "c7f4a64c",
   "metadata": {},
   "outputs": [],
   "source": []
  }
 ],
 "metadata": {
  "kernelspec": {
   "display_name": "Python 3 (ipykernel)",
   "language": "python",
   "name": "python3"
  },
  "language_info": {
   "codemirror_mode": {
    "name": "ipython",
    "version": 3
   },
   "file_extension": ".py",
   "mimetype": "text/x-python",
   "name": "python",
   "nbconvert_exporter": "python",
   "pygments_lexer": "ipython3",
   "version": "3.11.3"
  }
 },
 "nbformat": 4,
 "nbformat_minor": 5
}
