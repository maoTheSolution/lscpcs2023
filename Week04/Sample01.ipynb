{
 "cells": [
  {
   "cell_type": "code",
   "execution_count": 2,
   "id": "3fe716a9",
   "metadata": {},
   "outputs": [],
   "source": [
    "temp1984 = 'It was a bright cold day in April, and the clocks were strik- ing thirteen. Winston Smith, his chin nuzzled into his breast in an effort to escape the vile wind, slipped quickly through the glass doors of Victory Mansions, though not quickly enough to prevent a swirl of gritty dust from enter- ing along with him. The hallway smelt of boiled cabbage and old rag mats. At one end of it a coloured poster, too large for indoor display, had been tacked to the wall. It depicted simply an enor- mous face, more than a metre wide: the face of a man of about forty-five, with a heavy black moustache and rugged- ly handsome features. Winston made for the stairs. It was no use trying the lift. Even at the best of times it was sel- dom working, and at present the electric current was cut off during daylight hours. It was part of the economy drive in preparation for Hate Week. The flat was seven flights up, and Winston, who was thirty-nine and had a varicose ulcer above his right ankle, went slowly, resting several times on the way. On each landing, opposite the lift-shaft, the poster with the enormous face gazed from the wall. It was one of those pictures which are so contrived that the eyes follow you about when you move. BIG BROTHER IS WATCHING YOU, the caption beneath it ran'"
   ]
  },
  {
   "cell_type": "code",
   "execution_count": 3,
   "id": "f68407eb",
   "metadata": {},
   "outputs": [
    {
     "data": {
      "text/plain": [
       "'It was a bright cold day in April, and the clocks were strik- ing thirteen. Winston Smith, his chin nuzzled into his breast in an effort to escape the vile wind, slipped quickly through the glass doors of Victory Mansions, though not quickly enough to prevent a swirl of gritty dust from enter- ing along with him. The hallway smelt of boiled cabbage and old rag mats. At one end of it a coloured poster, too large for indoor display, had been tacked to the wall. It depicted simply an enor- mous face, more than a metre wide: the face of a man of about forty-five, with a heavy black moustache and rugged- ly handsome features. Winston made for the stairs. It was no use trying the lift. Even at the best of times it was sel- dom working, and at present the electric current was cut off during daylight hours. It was part of the economy drive in preparation for Hate Week. The flat was seven flights up, and Winston, who was thirty-nine and had a varicose ulcer above his right ankle, went slowly, resting several times on the way. On each landing, opposite the lift-shaft, the poster with the enormous face gazed from the wall. It was one of those pictures which are so contrived that the eyes follow you about when you move. BIG BROTHER IS WATCHING YOU, the caption beneath it ran'"
      ]
     },
     "execution_count": 3,
     "metadata": {},
     "output_type": "execute_result"
    }
   ],
   "source": [
    "temp1984"
   ]
  },
  {
   "cell_type": "code",
   "execution_count": 5,
   "id": "9e2aa2fc",
   "metadata": {},
   "outputs": [
    {
     "data": {
      "text/plain": [
       "'g\\x92>\\x95\\x7f\\x91>\\x7f>\\x80\\x90\\x87\\x85\\x86\\x92>\\x81\\x8d\\x8a\\x82>\\x82\\x7f\\x97>\\x87\\x8c>_\\x8e\\x90\\x87\\x8aJ>\\x7f\\x8c\\x82>\\x92\\x86\\x83>\\x81\\x8a\\x8d\\x81\\x89\\x91>\\x95\\x83\\x90\\x83>\\x91\\x92\\x90\\x87\\x89K>\\x87\\x8c\\x85>\\x92\\x86\\x87\\x90\\x92\\x83\\x83\\x8cL>u\\x87\\x8c\\x91\\x92\\x8d\\x8c>q\\x8b\\x87\\x92\\x86J>\\x86\\x87\\x91>\\x81\\x86\\x87\\x8c>\\x8c\\x93\\x98\\x98\\x8a\\x83\\x82>\\x87\\x8c\\x92\\x8d>\\x86\\x87\\x91>\\x80\\x90\\x83\\x7f\\x91\\x92>\\x87\\x8c>\\x7f\\x8c>\\x83\\x84\\x84\\x8d\\x90\\x92>\\x92\\x8d>\\x83\\x91\\x81\\x7f\\x8e\\x83>\\x92\\x86\\x83>\\x94\\x87\\x8a\\x83>\\x95\\x87\\x8c\\x82J>\\x91\\x8a\\x87\\x8e\\x8e\\x83\\x82>\\x8f\\x93\\x87\\x81\\x89\\x8a\\x97>\\x92\\x86\\x90\\x8d\\x93\\x85\\x86>\\x92\\x86\\x83>\\x85\\x8a\\x7f\\x91\\x91>\\x82\\x8d\\x8d\\x90\\x91>\\x8d\\x84>t\\x87\\x81\\x92\\x8d\\x90\\x97>k\\x7f\\x8c\\x91\\x87\\x8d\\x8c\\x91J>\\x92\\x86\\x8d\\x93\\x85\\x86>\\x8c\\x8d\\x92>\\x8f\\x93\\x87\\x81\\x89\\x8a\\x97>\\x83\\x8c\\x8d\\x93\\x85\\x86>\\x92\\x8d>\\x8e\\x90\\x83\\x94\\x83\\x8c\\x92>\\x7f>\\x91\\x95\\x87\\x90\\x8a>\\x8d\\x84>\\x85\\x90\\x87\\x92\\x92\\x97>\\x82\\x93\\x91\\x92>\\x84\\x90\\x8d\\x8b>\\x83\\x8c\\x92\\x83\\x90K>\\x87\\x8c\\x85>\\x7f\\x8a\\x8d\\x8c\\x85>\\x95\\x87\\x92\\x86>\\x86\\x87\\x8bL>r\\x86\\x83>\\x86\\x7f\\x8a\\x8a\\x95\\x7f\\x97>\\x91\\x8b\\x83\\x8a\\x92>\\x8d\\x84>\\x80\\x8d\\x87\\x8a\\x83\\x82>\\x81\\x7f\\x80\\x80\\x7f\\x85\\x83>\\x7f\\x8c\\x82>\\x8d\\x8a\\x82>\\x90\\x7f\\x85>\\x8b\\x7f\\x92\\x91L>_\\x92>\\x8d\\x8c\\x83>\\x83\\x8c\\x82>\\x8d\\x84>\\x87\\x92>\\x7f>\\x81\\x8d\\x8a\\x8d\\x93\\x90\\x83\\x82>\\x8e\\x8d\\x91\\x92\\x83\\x90J>\\x92\\x8d\\x8d>\\x8a\\x7f\\x90\\x85\\x83>\\x84\\x8d\\x90>\\x87\\x8c\\x82\\x8d\\x8d\\x90>\\x82\\x87\\x91\\x8e\\x8a\\x7f\\x97J>\\x86\\x7f\\x82>\\x80\\x83\\x83\\x8c>\\x92\\x7f\\x81\\x89\\x83\\x82>\\x92\\x8d>\\x92\\x86\\x83>\\x95\\x7f\\x8a\\x8aL>g\\x92>\\x82\\x83\\x8e\\x87\\x81\\x92\\x83\\x82>\\x91\\x87\\x8b\\x8e\\x8a\\x97>\\x7f\\x8c>\\x83\\x8c\\x8d\\x90K>\\x8b\\x8d\\x93\\x91>\\x84\\x7f\\x81\\x83J>\\x8b\\x8d\\x90\\x83>\\x92\\x86\\x7f\\x8c>\\x7f>\\x8b\\x83\\x92\\x90\\x83>\\x95\\x87\\x82\\x83X>\\x92\\x86\\x83>\\x84\\x7f\\x81\\x83>\\x8d\\x84>\\x7f>\\x8b\\x7f\\x8c>\\x8d\\x84>\\x7f\\x80\\x8d\\x93\\x92>\\x84\\x8d\\x90\\x92\\x97K\\x84\\x87\\x94\\x83J>\\x95\\x87\\x92\\x86>\\x7f>\\x86\\x83\\x7f\\x94\\x97>\\x80\\x8a\\x7f\\x81\\x89>\\x8b\\x8d\\x93\\x91\\x92\\x7f\\x81\\x86\\x83>\\x7f\\x8c\\x82>\\x90\\x93\\x85\\x85\\x83\\x82K>\\x8a\\x97>\\x86\\x7f\\x8c\\x82\\x91\\x8d\\x8b\\x83>\\x84\\x83\\x7f\\x92\\x93\\x90\\x83\\x91L>u\\x87\\x8c\\x91\\x92\\x8d\\x8c>\\x8b\\x7f\\x82\\x83>\\x84\\x8d\\x90>\\x92\\x86\\x83>\\x91\\x92\\x7f\\x87\\x90\\x91L>g\\x92>\\x95\\x7f\\x91>\\x8c\\x8d>\\x93\\x91\\x83>\\x92\\x90\\x97\\x87\\x8c\\x85>\\x92\\x86\\x83>\\x8a\\x87\\x84\\x92L>c\\x94\\x83\\x8c>\\x7f\\x92>\\x92\\x86\\x83>\\x80\\x83\\x91\\x92>\\x8d\\x84>\\x92\\x87\\x8b\\x83\\x91>\\x87\\x92>\\x95\\x7f\\x91>\\x91\\x83\\x8aK>\\x82\\x8d\\x8b>\\x95\\x8d\\x90\\x89\\x87\\x8c\\x85J>\\x7f\\x8c\\x82>\\x7f\\x92>\\x8e\\x90\\x83\\x91\\x83\\x8c\\x92>\\x92\\x86\\x83>\\x83\\x8a\\x83\\x81\\x92\\x90\\x87\\x81>\\x81\\x93\\x90\\x90\\x83\\x8c\\x92>\\x95\\x7f\\x91>\\x81\\x93\\x92>\\x8d\\x84\\x84>\\x82\\x93\\x90\\x87\\x8c\\x85>\\x82\\x7f\\x97\\x8a\\x87\\x85\\x86\\x92>\\x86\\x8d\\x93\\x90\\x91L>g\\x92>\\x95\\x7f\\x91>\\x8e\\x7f\\x90\\x92>\\x8d\\x84>\\x92\\x86\\x83>\\x83\\x81\\x8d\\x8c\\x8d\\x8b\\x97>\\x82\\x90\\x87\\x94\\x83>\\x87\\x8c>\\x8e\\x90\\x83\\x8e\\x7f\\x90\\x7f\\x92\\x87\\x8d\\x8c>\\x84\\x8d\\x90>f\\x7f\\x92\\x83>u\\x83\\x83\\x89L>r\\x86\\x83>\\x84\\x8a\\x7f\\x92>\\x95\\x7f\\x91>\\x91\\x83\\x94\\x83\\x8c>\\x84\\x8a\\x87\\x85\\x86\\x92\\x91>\\x93\\x8eJ>\\x7f\\x8c\\x82>u\\x87\\x8c\\x91\\x92\\x8d\\x8cJ>\\x95\\x86\\x8d>\\x95\\x7f\\x91>\\x92\\x86\\x87\\x90\\x92\\x97K\\x8c\\x87\\x8c\\x83>\\x7f\\x8c\\x82>\\x86\\x7f\\x82>\\x7f>\\x94\\x7f\\x90\\x87\\x81\\x8d\\x91\\x83>\\x93\\x8a\\x81\\x83\\x90>\\x7f\\x80\\x8d\\x94\\x83>\\x86\\x87\\x91>\\x90\\x87\\x85\\x86\\x92>\\x7f\\x8c\\x89\\x8a\\x83J>\\x95\\x83\\x8c\\x92>\\x91\\x8a\\x8d\\x95\\x8a\\x97J>\\x90\\x83\\x91\\x92\\x87\\x8c\\x85>\\x91\\x83\\x94\\x83\\x90\\x7f\\x8a>\\x92\\x87\\x8b\\x83\\x91>\\x8d\\x8c>\\x92\\x86\\x83>\\x95\\x7f\\x97L>m\\x8c>\\x83\\x7f\\x81\\x86>\\x8a\\x7f\\x8c\\x82\\x87\\x8c\\x85J>\\x8d\\x8e\\x8e\\x8d\\x91\\x87\\x92\\x83>\\x92\\x86\\x83>\\x8a\\x87\\x84\\x92K\\x91\\x86\\x7f\\x84\\x92J>\\x92\\x86\\x83>\\x8e\\x8d\\x91\\x92\\x83\\x90>\\x95\\x87\\x92\\x86>\\x92\\x86\\x83>\\x83\\x8c\\x8d\\x90\\x8b\\x8d\\x93\\x91>\\x84\\x7f\\x81\\x83>\\x85\\x7f\\x98\\x83\\x82>\\x84\\x90\\x8d\\x8b>\\x92\\x86\\x83>\\x95\\x7f\\x8a\\x8aL>g\\x92>\\x95\\x7f\\x91>\\x8d\\x8c\\x83>\\x8d\\x84>\\x92\\x86\\x8d\\x91\\x83>\\x8e\\x87\\x81\\x92\\x93\\x90\\x83\\x91>\\x95\\x86\\x87\\x81\\x86>\\x7f\\x90\\x83>\\x91\\x8d>\\x81\\x8d\\x8c\\x92\\x90\\x87\\x94\\x83\\x82>\\x92\\x86\\x7f\\x92>\\x92\\x86\\x83>\\x83\\x97\\x83\\x91>\\x84\\x8d\\x8a\\x8a\\x8d\\x95>\\x97\\x8d\\x93>\\x7f\\x80\\x8d\\x93\\x92>\\x95\\x86\\x83\\x8c>\\x97\\x8d\\x93>\\x8b\\x8d\\x94\\x83L>`ge>`pmrfcp>gq>u_rafgle>wmsJ>\\x92\\x86\\x83>\\x81\\x7f\\x8e\\x92\\x87\\x8d\\x8c>\\x80\\x83\\x8c\\x83\\x7f\\x92\\x86>\\x87\\x92>\\x90\\x7f\\x8c'"
      ]
     },
     "execution_count": 5,
     "metadata": {},
     "output_type": "execute_result"
    }
   ],
   "source": [
    "temp1984"
   ]
  },
  {
   "cell_type": "code",
   "execution_count": 6,
   "id": "51411eaf",
   "metadata": {},
   "outputs": [],
   "source": [
    "temp = 'Apple'"
   ]
  },
  {
   "cell_type": "code",
   "execution_count": 10,
   "id": "359e5b8c",
   "metadata": {},
   "outputs": [
    {
     "data": {
      "text/plain": [
       "'Apple'"
      ]
     },
     "execution_count": 10,
     "metadata": {},
     "output_type": "execute_result"
    }
   ],
   "source": [
    "temp"
   ]
  },
  {
   "cell_type": "code",
   "execution_count": null,
   "id": "bc74ae3c",
   "metadata": {},
   "outputs": [],
   "source": [
    "result = ''\n",
    "for each in temp:\n",
    "    result = result + chr(ord(each) + 3)"
   ]
  },
  {
   "cell_type": "code",
   "execution_count": 11,
   "id": "7204199b",
   "metadata": {},
   "outputs": [
    {
     "data": {
      "text/plain": [
       "'Dssoh'"
      ]
     },
     "execution_count": 11,
     "metadata": {},
     "output_type": "execute_result"
    }
   ],
   "source": [
    "result"
   ]
  },
  {
   "cell_type": "code",
   "execution_count": null,
   "id": "3e5db2cb",
   "metadata": {},
   "outputs": [],
   "source": []
  },
  {
   "cell_type": "code",
   "execution_count": 18,
   "id": "96a5f998",
   "metadata": {},
   "outputs": [
    {
     "data": {
      "text/plain": [
       "'Apple'"
      ]
     },
     "execution_count": 18,
     "metadata": {},
     "output_type": "execute_result"
    }
   ],
   "source": [
    "outcome"
   ]
  },
  {
   "cell_type": "code",
   "execution_count": null,
   "id": "24c5c747",
   "metadata": {},
   "outputs": [],
   "source": []
  }
 ],
 "metadata": {
  "kernelspec": {
   "display_name": "Python 3 (ipykernel)",
   "language": "python",
   "name": "python3"
  },
  "language_info": {
   "codemirror_mode": {
    "name": "ipython",
    "version": 3
   },
   "file_extension": ".py",
   "mimetype": "text/x-python",
   "name": "python",
   "nbconvert_exporter": "python",
   "pygments_lexer": "ipython3",
   "version": "3.11.3"
  }
 },
 "nbformat": 4,
 "nbformat_minor": 5
}
