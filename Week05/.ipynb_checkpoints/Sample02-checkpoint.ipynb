{
 "cells": [
  {
   "cell_type": "code",
   "execution_count": 1,
   "id": "d79efb95",
   "metadata": {},
   "outputs": [],
   "source": [
    "def setter():\n",
    "    temp = input(\"Enter any words : \")\n",
    "    return temp"
   ]
  },
  {
   "cell_type": "code",
   "execution_count": 2,
   "id": "521c29b7",
   "metadata": {},
   "outputs": [
    {
     "name": "stdout",
     "output_type": "stream",
     "text": [
      "Enter any words : I love today!\n"
     ]
    },
    {
     "data": {
      "text/plain": [
       "'I love today!'"
      ]
     },
     "execution_count": 2,
     "metadata": {},
     "output_type": "execute_result"
    }
   ],
   "source": [
    "setter()"
   ]
  },
  {
   "cell_type": "code",
   "execution_count": 7,
   "id": "bde0aa32",
   "metadata": {},
   "outputs": [],
   "source": [
    "def enc(ch):\n",
    "    print(chr(ord(ch) + 4))"
   ]
  },
  {
   "cell_type": "code",
   "execution_count": 8,
   "id": "e52d64d7",
   "metadata": {},
   "outputs": [
    {
     "name": "stdout",
     "output_type": "stream",
     "text": [
      "g\n"
     ]
    }
   ],
   "source": [
    "enc('c')"
   ]
  },
  {
   "cell_type": "code",
   "execution_count": 11,
   "id": "ad85dc6b",
   "metadata": {},
   "outputs": [],
   "source": [
    "def f1():\n",
    "    temp = setter()\n",
    "    for each in temp:\n",
    "        enc(each)"
   ]
  },
  {
   "cell_type": "code",
   "execution_count": 12,
   "id": "862d6365",
   "metadata": {},
   "outputs": [
    {
     "name": "stdout",
     "output_type": "stream",
     "text": [
      "Enter any words : I love today\n",
      "M\n",
      "$\n",
      "p\n",
      "s\n",
      "z\n",
      "i\n",
      "$\n",
      "x\n",
      "s\n",
      "h\n",
      "e\n",
      "}\n"
     ]
    }
   ],
   "source": [
    "f1()"
   ]
  },
  {
   "cell_type": "code",
   "execution_count": null,
   "id": "8c10f2c8",
   "metadata": {},
   "outputs": [],
   "source": []
  }
 ],
 "metadata": {
  "kernelspec": {
   "display_name": "Python 3 (ipykernel)",
   "language": "python",
   "name": "python3"
  },
  "language_info": {
   "codemirror_mode": {
    "name": "ipython",
    "version": 3
   },
   "file_extension": ".py",
   "mimetype": "text/x-python",
   "name": "python",
   "nbconvert_exporter": "python",
   "pygments_lexer": "ipython3",
   "version": "3.11.3"
  }
 },
 "nbformat": 4,
 "nbformat_minor": 5
}
