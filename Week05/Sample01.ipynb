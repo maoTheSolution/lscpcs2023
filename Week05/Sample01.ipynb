{
 "cells": [
  {
   "cell_type": "code",
   "execution_count": 7,
   "id": "69bc6faa",
   "metadata": {},
   "outputs": [],
   "source": [
    "def f1():\n",
    "    result = input(\"1.T\\t2.S\\t3.C\")\n",
    "    return result"
   ]
  },
  {
   "cell_type": "code",
   "execution_count": 8,
   "id": "20b6ff66",
   "metadata": {},
   "outputs": [
    {
     "name": "stdout",
     "output_type": "stream",
     "text": [
      "1.T\t2.S\t3.C2\n"
     ]
    },
    {
     "data": {
      "text/plain": [
       "'2'"
      ]
     },
     "execution_count": 8,
     "metadata": {},
     "output_type": "execute_result"
    }
   ],
   "source": [
    "f1()"
   ]
  },
  {
   "cell_type": "code",
   "execution_count": 14,
   "id": "4ae0eecf",
   "metadata": {},
   "outputs": [],
   "source": [
    "def f2():\n",
    "    if f1() == '1':\n",
    "        print(\"Base, Height : \")\n",
    "        \n",
    "    elif f1() == '2':\n",
    "        print(\"Base, Height : \")\n",
    "        \n",
    "    elif f1() == '3':\n",
    "        print(\"Radius :\")\n",
    "        "
   ]
  },
  {
   "cell_type": "code",
   "execution_count": 17,
   "id": "991d7a00",
   "metadata": {},
   "outputs": [
    {
     "name": "stdout",
     "output_type": "stream",
     "text": [
      "1.T\t2.S\t3.C3\n",
      "1.T\t2.S\t3.C2\n",
      "Base, Height : \n"
     ]
    }
   ],
   "source": [
    "f2()"
   ]
  },
  {
   "cell_type": "code",
   "execution_count": 18,
   "id": "c81c5a5d",
   "metadata": {},
   "outputs": [
    {
     "name": "stdout",
     "output_type": "stream",
     "text": [
      "1.T\t2.S\t3.C3\n",
      "1.T\t2.S\t3.C3\n",
      "1.T\t2.S\t3.C3\n",
      "Radius :\n"
     ]
    }
   ],
   "source": [
    "f2()"
   ]
  },
  {
   "cell_type": "code",
   "execution_count": 19,
   "id": "aa6d4123",
   "metadata": {},
   "outputs": [],
   "source": [
    "import math"
   ]
  },
  {
   "cell_type": "code",
   "execution_count": 20,
   "id": "4dffe4ec",
   "metadata": {},
   "outputs": [
    {
     "data": {
      "text/plain": [
       "3.141592653589793"
      ]
     },
     "execution_count": 20,
     "metadata": {},
     "output_type": "execute_result"
    }
   ],
   "source": [
    "math.pi"
   ]
  },
  {
   "cell_type": "code",
   "execution_count": null,
   "id": "e5dce4bc",
   "metadata": {},
   "outputs": [],
   "source": [
    "'''\n",
    "1. R     2. T      3. C\n",
    "\n",
    "1.Base : \n",
    "2. Height:\n",
    "\n",
    "\n",
    "1. Radius:\n",
    "\n",
    "\n",
    "return Area!!\n",
    "'''"
   ]
  }
 ],
 "metadata": {
  "kernelspec": {
   "display_name": "Python 3 (ipykernel)",
   "language": "python",
   "name": "python3"
  },
  "language_info": {
   "codemirror_mode": {
    "name": "ipython",
    "version": 3
   },
   "file_extension": ".py",
   "mimetype": "text/x-python",
   "name": "python",
   "nbconvert_exporter": "python",
   "pygments_lexer": "ipython3",
   "version": "3.11.3"
  }
 },
 "nbformat": 4,
 "nbformat_minor": 5
}
